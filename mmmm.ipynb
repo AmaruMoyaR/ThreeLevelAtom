{
 "cells": [
  {
   "cell_type": "code",
   "execution_count": 54,
   "metadata": {},
   "outputs": [],
   "source": [
    "import numpy as np\n",
    "from qutip import * \n",
    "import qutip as q\n",
    "import matplotlib.pyplot as plt\n",
    "import matplotlib\n",
    "import matplotlib.animation as animation\n",
    "import matplotlib.cm as cm\n",
    "import datetime as dt\n",
    "from Basis import *\n"
   ]
  },
  {
   "cell_type": "code",
   "execution_count": 47,
   "metadata": {},
   "outputs": [],
   "source": [
    "\n",
    "def Hamiltonian_2levels(psi_inic, N , t = 300, w0 = 1. , w = 1., lamda = 1):\n",
    "    \n",
    "    #Creamos los operadores para el hamiltoniano\n",
    "    sig_atomo = q.tensor(q.destroy(2),q.identity(N)) #producto tensorial entre sigma 2 y la identidad N\n",
    "    a_campo = q.tensor(q.identity(2),q.destroy(N)) #producto tensorial entre la identidad 2 y operador destruccion N\n",
    "    sig_z = q.tensor(q.sigmaz(),q.identity(N)) #producto tensorial entre sigma z y la identidad N\n",
    "    #Creamos el hamiltoniano para la evolución temporal\n",
    "    H_int = 0.5 * w0 * sig_z + w*a_campo.dag()*a_campo + lamda*(sig_atomo.dag()*a_campo + sig_atomo*a_campo.dag())\n",
    "    \n",
    "    #estado basal de 2 niveles\n",
    "    g_atomo = q.basis(2,0)#ground state\n",
    "    e_atomo = q.basis(2,1)#excited state\n",
    "    estado_e = q.tensor(e_atomo,psi_inic)\n",
    "    estado_g = q.tensor(g_atomo,psi_inic)\n",
    "    \n",
    "    tiempo = np.linspace(0,25*lamda/w,t)\n",
    "    #Dado el estado inicial estado_g, la evolución se calcula usando mesolve\n",
    "    estado_final = q.mesolve(H_int,estado_g,tiempo)\n",
    "    evolucion_temporal_estado = estado_final.states\n",
    "    tasa_inversion = q.expect(sig_z, evolucion_temporal_estado)\n",
    "    \n",
    "    return evolucion_temporal_estado, tiempo, tasa_inversion\n",
    "\n"
   ]
  },
  {
   "cell_type": "code",
   "execution_count": 48,
   "metadata": {},
   "outputs": [],
   "source": [
    "def Hamiltonian3LevelsLadderOM(psi_inic, N, t, lambda1, lambda2, w, omega_1, omega_2, omega_3):\n",
    "    #we build the hamiltonian for a 3 level system in ladder configuration\n",
    "    #this means that we will have transitions between levels, excited by an external field of a single mode\n",
    "    omega_12 = omega_1 - omega_2\n",
    "    omega_23 = omega_2 - omega_3\n",
    "    Delta_l = np.abs(omega_12) - w\n",
    "    Delta_r = np.abs(omega_23) - w\n",
    "    \n",
    "    a_field = q.tensor(q.qeye(3),q.destroy(N))\n",
    "    \n",
    "    # Create atomic operators for the three-level system\n",
    "    b1_electron = q.tensor(q.destroy(3), q.qeye(N))\n",
    "    b2_electron = q.tensor(q.qeye(3), q.destroy(N))\n",
    "    b3_electron = q.tensor(q.qeye(3), q.destroy(N))\n",
    "    \n",
    "    g_atom = q.basis(3,0)#ground state\n",
    "    m_atom = q.basis(3,1)#middle state\n",
    "    e_atom = q.basis(3,2)#excited state\n",
    "    \n",
    "    sigma11 = q.tensor(q.basis(3,0)*q.basis(3,0).dag(),q.identity(N)) \n",
    "    sigma12 = q.tensor(q.basis(3,0)*q.basis(3,1).dag(),q.identity(N))\n",
    "    sigma21 = q.tensor(q.basis(3,1)*q.basis(3,0).dag(),q.identity(N))\n",
    "    sigma22 = q.tensor(q.basis(3,1)*q.basis(3,1).dag(),q.identity(N))\n",
    "    sigma23 = q.tensor(q.basis(3,1)*q.basis(3,2).dag(),q.identity(N))\n",
    "    sigma32 = q.tensor(q.basis(3,2)*q.basis(3,1).dag(),q.identity(N))\n",
    "    sigma33 = q.tensor(q.basis(3,2)*q.basis(3,2).dag(),q.identity(N))\n",
    "    \n",
    "    # Create the Hamiltonian\n",
    "    H_0 = omega_1*sigma11 + omega_2*sigma22 + omega_3*sigma33 + w*a_field.dag()*a_field\n",
    "    \n",
    "    H_i = lambda1*(sigma12*a_field + a_field.dag()*sigma21) + lambda2*(sigma23*a_field + a_field.dag()*sigma32)\n",
    "    \n",
    "    H = H_0 + H_i     \n",
    "    \n",
    "    state_g = q.tensor(g_atom,psi_inic)\n",
    "    state_m = q.tensor(m_atom,psi_inic)\n",
    "    state_e = q.tensor(e_atom,psi_inic)\n",
    "    \n",
    "    #reduced density matrix\n",
    "    rho0 = state_g.ptrace(0)\n",
    "    rho1 = state_m.ptrace(0)\n",
    "    rho2 = state_e.ptrace(0)\n",
    "    \n",
    "    tiempo = np.linspace(0,25*lambda1/(w),t)\n",
    "    #Dado el estado inicial estado_g, la evolución se calcula usando mesolve\n",
    "    psi_final = q.mesolve(H ,\n",
    "                             state_g, tiempo)\n",
    "    \n",
    "    t_evol_state = psi_final.states\n",
    "    \n",
    "    N_0 = g_atom*g_atom.dag()\n",
    "    N_1 = m_atom*m_atom.dag()       \n",
    "    N_2 = e_atom*e_atom.dag()\n",
    "    \n",
    "    tasa_inversion_0 = q.expect(sigma11, t_evol_state)\n",
    "    tasa_inversion_1 = q.expect(sigma22, t_evol_state)\n",
    "    tasa_inversion_2 = q.expect(sigma33, t_evol_state)\n",
    "    \n",
    "    return t_evol_state, tiempo, tasa_inversion_0, tasa_inversion_1, tasa_inversion_2 ,rho0, rho1, rho2\n",
    "    \n",
    "    "
   ]
  },
  {
   "cell_type": "code",
   "execution_count": 49,
   "metadata": {},
   "outputs": [],
   "source": [
    "N  = 30\n",
    "w = 1\n",
    "omega_1 = 1\n",
    "omega_2 = 1.3\n",
    "omega_3 = 1.5\n",
    "lambda1 = 0.3\n",
    "lambda2 = 0.7\n",
    "t = 30000\n",
    "psi_inic = q.basis(N,0)\n",
    "t_evol_state, tiempo, tasa_inversion_0, tasa_inversion_1, tasa_inversion_2 ,rho0, rho1, rho2 = Hamiltonian3LevelsLadderOM(psi_inic, N, t, lambda1, lambda2, w, omega_1, omega_2, omega_3)"
   ]
  },
  {
   "cell_type": "code",
   "execution_count": 50,
   "metadata": {},
   "outputs": [],
   "source": [
    "from tqdm import tqdm"
   ]
  },
  {
   "cell_type": "code",
   "execution_count": 51,
   "metadata": {},
   "outputs": [
    {
     "data": {
      "text/plain": [
       "Text(0.5, 1.0, 'Tasa de inversión estado coherente')"
      ]
     },
     "execution_count": 51,
     "metadata": {},
     "output_type": "execute_result"
    },
    {
     "data": {
      "image/png": "[encoded data removed]",
      "text/plain": [
       "<Figure size 432x288 with 1 Axes>"
      ]
     },
     "metadata": {
      "needs_background": "light"
     },
     "output_type": "display_data"
    }
   ],
   "source": [
    "#Ploteamos la tasa de inversion en el tiempo\n",
    "fig, ax = plt.subplots()\n",
    "ax.plot(tiempo,tasa_inversion_0 , c = 'tomato')\n",
    "ax.plot(tiempo,tasa_inversion_1 , c = 'teal')\n",
    "ax.plot(tiempo,tasa_inversion_2 , c = 'limegreen')\n",
    "ax.set_xlabel(r'$\\lambda t / \\omega $')\n",
    "ax.set_ylabel('W(t)')\n",
    "ax.set_title('Tasa de inversión estado coherente')"
   ]
  },
  {
   "cell_type": "code",
   "execution_count": 55,
   "metadata": {},
   "outputs": [
    {
     "ename": "NameError",
     "evalue": "name 'WignerEvolutionbar' is not defined",
     "output_type": "error",
     "traceback": [
      "\u001b[1;31m---------------------------------------------------------------------------\u001b[0m",
      "\u001b[1;31mNameError\u001b[0m                                 Traceback (most recent call last)",
      "\u001b[1;32m~\\AppData\\Local\\Temp/ipykernel_50008/2042687038.py\u001b[0m in \u001b[0;36m<module>\u001b[1;34m\u001b[0m\n\u001b[0;32m      3\u001b[0m \u001b[0mxvec\u001b[0m \u001b[1;33m=\u001b[0m \u001b[0mnp\u001b[0m\u001b[1;33m.\u001b[0m\u001b[0mlinspace\u001b[0m\u001b[1;33m(\u001b[0m\u001b[1;33m-\u001b[0m\u001b[1;36m20\u001b[0m\u001b[1;33m,\u001b[0m\u001b[1;36m20\u001b[0m\u001b[1;33m,\u001b[0m\u001b[1;36m300\u001b[0m\u001b[1;33m)\u001b[0m\u001b[1;33m\u001b[0m\u001b[1;33m\u001b[0m\u001b[0m\n\u001b[0;32m      4\u001b[0m \u001b[1;33m\u001b[0m\u001b[0m\n\u001b[1;32m----> 5\u001b[1;33m \u001b[0mwigner\u001b[0m \u001b[1;33m=\u001b[0m \u001b[0mWignerEvolutionbar\u001b[0m\u001b[1;33m(\u001b[0m\u001b[0mt_evol_state\u001b[0m\u001b[1;33m,\u001b[0m\u001b[0mxvec\u001b[0m\u001b[1;33m,\u001b[0m \u001b[0mwigners\u001b[0m\u001b[1;33m)\u001b[0m\u001b[1;33m\u001b[0m\u001b[1;33m\u001b[0m\u001b[0m\n\u001b[0m",
      "\u001b[1;31mNameError\u001b[0m: name 'WignerEvolutionbar' is not defined"
     ]
    }
   ],
   "source": [
    "wigners=[]\n",
    "max_value = 0.0\n",
    "xvec = np.linspace(-20,20,300)\n",
    "\n",
    "wigner = WignerEvolutionbar(t_evol_state,xvec, wigners)"
   ]
  },
  {
   "cell_type": "code",
   "execution_count": null,
   "metadata": {},
   "outputs": [],
   "source": [
    "AnimatedWigner(wigner, xvec, 'firsttry')"
   ]
  }
 ],
 "metadata": {
  "kernelspec": {
   "display_name": "base",
   "language": "python",
   "name": "python3"
  },
  "language_info": {
   "codemirror_mode": {
    "name": "ipython",
    "version": 3
   },
   "file_extension": ".py",
   "mimetype": "text/x-python",
   "name": "python",
   "nbconvert_exporter": "python",
   "pygments_lexer": "ipython3",
   "version": "3.9.7"
  },
  "orig_nbformat": 4
 },
 "nbformat": 4,
 "nbformat_minor": 2
}
